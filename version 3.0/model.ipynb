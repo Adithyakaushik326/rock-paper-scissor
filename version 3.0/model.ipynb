{
  "nbformat": 4,
  "nbformat_minor": 0,
  "metadata": {
    "colab": {
      "name": "Untitled1.ipynb",
      "provenance": [],
      "collapsed_sections": []
    },
    "kernelspec": {
      "name": "python3",
      "display_name": "Python 3"
    },
    "accelerator": "GPU"
  },
  "cells": [
    {
      "cell_type": "code",
      "metadata": {
        "id": "AVexBVGkWTjy"
      },
      "source": [
        ""
      ],
      "execution_count": null,
      "outputs": []
    },
    {
      "cell_type": "code",
      "metadata": {
        "id": "pGp2TwHxWbMO",
        "outputId": "169e8937-0265-4109-b4ea-6ff73b3118f1",
        "colab": {
          "base_uri": "https://localhost:8080/",
          "height": 187
        }
      },
      "source": [
        "# Clone the entire repo.\n",
        "!git clone -l -s git://github.com/Adithyakaushik326/rock-paper-scissor.git cloned-repo\n",
        "%cd cloned-repository\n",
        "!ls"
      ],
      "execution_count": 10,
      "outputs": [
        {
          "output_type": "stream",
          "text": [
            "Cloning into 'cloned-repo'...\n",
            "warning: --local is ignored\n",
            "remote: Enumerating objects: 734, done.\u001b[K\n",
            "remote: Counting objects: 100% (734/734), done.\u001b[K\n",
            "remote: Compressing objects: 100% (732/732), done.\u001b[K\n",
            "remote: Total 734 (delta 0), reused 731 (delta 0), pack-reused 0\u001b[K\n",
            "Receiving objects: 100% (734/734), 27.06 MiB | 11.83 MiB/s, done.\n",
            "[Errno 2] No such file or directory: 'cloned-repository'\n",
            "/content/cloned-repo/cloned-repo\n",
            "cloned-repo  pic  README.md\n"
          ],
          "name": "stdout"
        }
      ]
    },
    {
      "cell_type": "code",
      "metadata": {
        "id": "lE9CJVbGWbLn"
      },
      "source": [
        "# Fetch a single <1MB file using the raw GitHub URL.\n",
        "!curl --remote-name \\\n",
        "     -H 'Accept: application/vnd.github.v3.raw' \\\n",
        "     --location https://api.github.com/repos/jakevdp/PythonDataScienceHandbook/contents/notebooks/data/california_cities.csv"
      ],
      "execution_count": null,
      "outputs": []
    },
    {
      "cell_type": "code",
      "metadata": {
        "id": "JAsp2bzbWjS0"
      },
      "source": [
        "import numpy as np\n",
        "import cv2\n",
        "import tensorflow as tf\n",
        "import os\n",
        "from keras.applications.mobilenet import MobileNet\n",
        "from keras.models import Sequential,Input,Model\n",
        "from keras.layers import Dense,Flatten,Dropout,Concatenate,GlobalAveragePooling2D,Lambda,ZeroPadding2D\n",
        "from keras.layers import SeparableConv2D,BatchNormalization,MaxPooling2D,Conv2D\n",
        "from keras.preprocessing.image import ImageDataGenerator"
      ],
      "execution_count": 3,
      "outputs": []
    },
    {
      "cell_type": "code",
      "metadata": {
        "id": "hdmmzx6AWk4N"
      },
      "source": [
        "train_datagen = ImageDataGenerator(\n",
        "        rescale=1./255,\n",
        "        shear_range=45,\n",
        "        zoom_range=0.2,\n",
        "        horizontal_flip=False,\n",
        "        width_shift_range=0.1,  \n",
        "        height_shift_range=0.1,\n",
        "        validation_split=0.2,\n",
        ")"
      ],
      "execution_count": 5,
      "outputs": []
    },
    {
      "cell_type": "code",
      "metadata": {
        "id": "GxppghQ4XMkU",
        "outputId": "b8fa4188-9b6d-437c-f485-0aedaeeaf899",
        "colab": {
          "base_uri": "https://localhost:8080/",
          "height": 51
        }
      },
      "source": [
        "train_gen = train_datagen.flow_from_directory(\n",
        "    '/content/cloned-repo/cloned-repo/pic/',\n",
        "    target_size = (160,160),\n",
        "    batch_size=32,\n",
        "    class_mode = 'categorical',\n",
        "    shuffle=True,\n",
        ")\n",
        "\n",
        "val_gen = train_datagen.flow_from_directory(\n",
        "    '/content/cloned-repo/cloned-repo/pic/',\n",
        "    target_size=(224,224),\n",
        "    batch_size=32,\n",
        "    class_mode='categorical',\n",
        "    shuffle=False,\n",
        "    subset = 'validation'\n",
        ")"
      ],
      "execution_count": 11,
      "outputs": [
        {
          "output_type": "stream",
          "text": [
            "Found 723 images belonging to 3 classes.\n",
            "Found 144 images belonging to 3 classes.\n"
          ],
          "name": "stdout"
        }
      ]
    },
    {
      "cell_type": "code",
      "metadata": {
        "id": "L_qn4nm_XeHR",
        "outputId": "da2bc8db-cb8c-48c3-dac0-23fa044cacff",
        "colab": {
          "base_uri": "https://localhost:8080/",
          "height": 34
        }
      },
      "source": [
        "train_gen.class_indices"
      ],
      "execution_count": 12,
      "outputs": [
        {
          "output_type": "execute_result",
          "data": {
            "text/plain": [
              "{'paper': 0, 'rock': 1, 'scissor': 2}"
            ]
          },
          "metadata": {
            "tags": []
          },
          "execution_count": 12
        }
      ]
    },
    {
      "cell_type": "code",
      "metadata": {
        "id": "sR87wz0FXpUF",
        "outputId": "fc131fd9-2681-4e56-bdb0-832bdae2c5e4",
        "colab": {
          "base_uri": "https://localhost:8080/",
          "height": 289
        }
      },
      "source": [
        "model_base = MobileNet(weights='imagenet',include_top=False,input_shape=(160,160,3))\n",
        "model = Sequential()\n",
        "model.add(model_base)\n",
        "model.add(GlobalAveragePooling2D())\n",
        "model.add(Dropout(0.5))\n",
        "model.add(Dense(3,activation='softmax'))\n",
        "model.summary()"
      ],
      "execution_count": 21,
      "outputs": [
        {
          "output_type": "stream",
          "text": [
            "Model: \"sequential_2\"\n",
            "_________________________________________________________________\n",
            "Layer (type)                 Output Shape              Param #   \n",
            "=================================================================\n",
            "mobilenet_1.00_160 (Function (None, 5, 5, 1024)        3228864   \n",
            "_________________________________________________________________\n",
            "global_average_pooling2d_2 ( (None, 1024)              0         \n",
            "_________________________________________________________________\n",
            "dropout_2 (Dropout)          (None, 1024)              0         \n",
            "_________________________________________________________________\n",
            "dense_1 (Dense)              (None, 3)                 3075      \n",
            "=================================================================\n",
            "Total params: 3,231,939\n",
            "Trainable params: 3,210,051\n",
            "Non-trainable params: 21,888\n",
            "_________________________________________________________________\n"
          ],
          "name": "stdout"
        }
      ]
    },
    {
      "cell_type": "code",
      "metadata": {
        "id": "0UgqpohBYyn2",
        "outputId": "a6f1ac1b-a679-4609-d620-9e9ca13d4a6b",
        "colab": {
          "base_uri": "https://localhost:8080/",
          "height": 224
        }
      },
      "source": [
        "model.compile(\n",
        "    loss='binary_crossentropy',\n",
        "    optimizer='adam',\n",
        "    metrics=['accuracy']\n",
        ")\n",
        "    \n",
        "history = model.fit_generator(\n",
        "    train_gen, \n",
        "    steps_per_epoch  = 20, \n",
        "    validation_data  = val_gen,\n",
        "    validation_steps = 20,\n",
        "    epochs = 5, \n",
        "    verbose = 2\n",
        ")"
      ],
      "execution_count": 22,
      "outputs": [
        {
          "output_type": "stream",
          "text": [
            "Epoch 1/5\n",
            "WARNING:tensorflow:Your input ran out of data; interrupting training. Make sure that your dataset or generator can generate at least `steps_per_epoch * epochs` batches (in this case, 20 batches). You may need to use the repeat() function when building your dataset.\n",
            "20/20 - 10s - loss: 0.0759 - accuracy: 0.9522 - val_loss: 3.9611 - val_accuracy: 0.3333\n",
            "Epoch 2/5\n",
            "20/20 - 7s - loss: 0.0240 - accuracy: 0.9920\n",
            "Epoch 3/5\n",
            "20/20 - 7s - loss: 0.0027 - accuracy: 0.9984\n",
            "Epoch 4/5\n",
            "20/20 - 7s - loss: 1.8920e-04 - accuracy: 1.0000\n",
            "Epoch 5/5\n",
            "20/20 - 7s - loss: 0.0057 - accuracy: 0.9968\n"
          ],
          "name": "stdout"
        }
      ]
    },
    {
      "cell_type": "code",
      "metadata": {
        "id": "rMHs5VF9Zgew",
        "outputId": "cd8466ed-da8d-4488-e84d-beca03cceda4",
        "colab": {
          "base_uri": "https://localhost:8080/",
          "height": 139
        }
      },
      "source": [
        "model_score = model.evaluate_generator(val_gen,steps=20)\n",
        "print(\"Model Test Loss:\",model_score[0])\n",
        "print(\"Model Test Accuracy:\",model_score[1])"
      ],
      "execution_count": 23,
      "outputs": [
        {
          "output_type": "stream",
          "text": [
            "WARNING:tensorflow:From <ipython-input-23-4114b34157ce>:1: Model.evaluate_generator (from tensorflow.python.keras.engine.training) is deprecated and will be removed in a future version.\n",
            "Instructions for updating:\n",
            "Please use Model.evaluate, which supports generators.\n",
            "WARNING:tensorflow:Your input ran out of data; interrupting training. Make sure that your dataset or generator can generate at least `steps_per_epoch * epochs` batches (in this case, 20 batches). You may need to use the repeat() function when building your dataset.\n",
            "Model Test Loss: 0.03970484435558319\n",
            "Model Test Accuracy: 0.9652777910232544\n"
          ],
          "name": "stdout"
        }
      ]
    },
    {
      "cell_type": "code",
      "metadata": {
        "id": "fEyFCfV9aPWF"
      },
      "source": [
        "d = {0:'paper',1:'rock',2:'scissors'}\n"
      ],
      "execution_count": 34,
      "outputs": []
    },
    {
      "cell_type": "code",
      "metadata": {
        "id": "HMy_aBQIaSSV",
        "outputId": "a6d063f9-3f0d-4c45-9d60-5a968df12771",
        "colab": {
          "base_uri": "https://localhost:8080/",
          "height": 1000
        }
      },
      "source": [
        "for i in os.listdir('/content/cloned-repo/cloned-repo/cloned-repo/pic/paper'):\n",
        "  c = cv2.imread(f'/content/cloned-repo/cloned-repo/cloned-repo/pic/paper/{i}')\n",
        "  c = c/255.0\n",
        "  c = np.reshape(c,(-1,160,160,3))\n",
        "  p = model.predict(c)\n",
        "  print(p,d[np.argmax(p)])"
      ],
      "execution_count": 38,
      "outputs": [
        {
          "output_type": "stream",
          "text": [
            "[[5.6432968e-01 4.3567032e-01 9.5610430e-14]] paper\n",
            "[[3.9263427e-02 9.6073657e-01 5.1750555e-14]] rock\n",
            "[[9.8295182e-01 1.7048202e-02 2.9779476e-14]] paper\n",
            "[[9.2119187e-01 7.8808181e-02 1.1341108e-14]] paper\n",
            "[[8.8675761e-01 1.1324245e-01 1.2996517e-12]] paper\n",
            "[[9.8605925e-01 1.3940718e-02 2.6351410e-14]] paper\n",
            "[[9.4425559e-01 5.5744376e-02 1.6541830e-14]] paper\n",
            "[[1.9290642e-01 8.0709362e-01 1.4646556e-15]] rock\n",
            "[[9.9856877e-01 1.4311435e-03 4.3044184e-16]] paper\n",
            "[[4.6960764e-02 9.5303917e-01 8.6919318e-16]] rock\n",
            "[[9.277231e-01 7.227688e-02 5.632128e-14]] paper\n",
            "[[9.9833602e-01 1.6639812e-03 1.5272023e-10]] paper\n",
            "[[5.9547192e-01 4.0452811e-01 2.9223772e-13]] paper\n",
            "[[2.9749903e-01 7.0250094e-01 4.9607369e-14]] rock\n",
            "[[9.9957806e-01 4.2192909e-04 6.2969530e-16]] paper\n",
            "[[6.2037951e-01 3.7962046e-01 8.7249950e-15]] paper\n",
            "[[9.0393579e-01 9.6064240e-02 7.6576575e-12]] paper\n",
            "[[7.5583243e-01 2.4416760e-01 5.4829294e-15]] paper\n",
            "[[2.9293355e-01 7.0706642e-01 3.9233380e-15]] rock\n",
            "[[5.3825802e-01 4.6174198e-01 3.9633307e-15]] paper\n",
            "[[4.2635539e-01 5.7364458e-01 1.7051744e-15]] rock\n",
            "[[9.6131361e-01 3.8686410e-02 1.0550677e-15]] paper\n",
            "[[9.9755991e-01 2.4400300e-03 4.1688606e-12]] paper\n",
            "[[9.643171e-01 3.568288e-02 8.474458e-18]] paper\n",
            "[[9.9718684e-01 2.8131772e-03 6.3914364e-16]] paper\n",
            "[[9.9886298e-01 1.1370705e-03 2.8849345e-12]] paper\n",
            "[[9.8445213e-01 1.5547866e-02 6.2203449e-13]] paper\n",
            "[[1.1387884e-01 8.8612121e-01 2.8470768e-15]] rock\n",
            "[[9.4430375e-01 5.5696309e-02 1.3297127e-14]] paper\n",
            "[[9.6971762e-01 3.0282412e-02 2.9828770e-14]] paper\n",
            "[[9.999080e-01 9.205295e-05 2.520670e-17]] paper\n",
            "[[9.9840206e-01 1.5979253e-03 4.6395298e-16]] paper\n",
            "[[9.9930990e-01 6.9014175e-04 3.4822562e-12]] paper\n",
            "[[1.5813842e-01 8.4186161e-01 9.3520962e-14]] rock\n",
            "[[9.9792188e-01 2.0781714e-03 9.6661452e-15]] paper\n",
            "[[9.9834573e-01 1.6543203e-03 1.3335970e-15]] paper\n",
            "[[9.4420686e-02 9.0557939e-01 4.1359365e-15]] rock\n",
            "[[9.9833554e-01 1.6644414e-03 1.1722750e-11]] paper\n",
            "[[9.9689472e-01 3.1052418e-03 2.3309282e-15]] paper\n",
            "[[5.9418632e-03 9.9405813e-01 2.9582069e-13]] rock\n",
            "[[9.5682663e-01 4.3173376e-02 1.6571510e-14]] paper\n",
            "[[9.9781275e-01 2.1872595e-03 5.6194019e-18]] paper\n",
            "[[9.8686105e-01 1.3138923e-02 1.4877943e-11]] paper\n",
            "[[9.9634141e-01 3.6586125e-03 7.7142191e-14]] paper\n",
            "[[6.2955803e-01 3.7044200e-01 5.3477052e-14]] paper\n",
            "[[9.8831367e-01 1.1686249e-02 3.3079131e-15]] paper\n",
            "[[8.82890344e-01 1.17109686e-01 3.00259013e-15]] paper\n",
            "[[9.8780942e-01 1.2190624e-02 3.8175846e-14]] paper\n",
            "[[9.206460e-01 7.935393e-02 9.161481e-15]] paper\n",
            "[[9.8377073e-01 1.6229315e-02 1.6815615e-11]] paper\n",
            "[[3.0746798e-03 9.9692529e-01 1.5408275e-13]] rock\n",
            "[[2.3459324e-01 7.6540673e-01 7.1812063e-15]] rock\n",
            "[[5.9009892e-01 4.0990111e-01 5.1816677e-15]] paper\n",
            "[[9.9914396e-01 8.5600256e-04 7.3526017e-15]] paper\n",
            "[[9.2999327e-01 7.0006721e-02 4.8128714e-14]] paper\n",
            "[[6.7850649e-01 3.2149351e-01 2.0953835e-15]] paper\n",
            "[[9.9871588e-01 1.2841418e-03 4.6427216e-17]] paper\n",
            "[[9.6201873e-01 3.7981305e-02 3.0245022e-11]] paper\n",
            "[[5.0931084e-01 4.9068916e-01 4.0250959e-15]] paper\n",
            "[[9.8972845e-01 1.0271573e-02 4.1879612e-16]] paper\n",
            "[[9.5274431e-01 4.7255635e-02 2.9849907e-16]] paper\n",
            "[[9.191327e-01 8.086728e-02 9.486186e-12]] paper\n",
            "[[9.4775403e-01 5.2245963e-02 1.9077076e-14]] paper\n",
            "[[9.9448013e-01 5.5198618e-03 1.3539900e-13]] paper\n",
            "[[9.8555887e-01 1.4441146e-02 1.8806573e-15]] paper\n",
            "[[6.1088562e-01 3.8911438e-01 9.2501698e-15]] paper\n",
            "[[9.9424946e-01 5.7505495e-03 6.4693031e-18]] paper\n",
            "[[9.9310255e-01 6.8974728e-03 7.4813619e-16]] paper\n",
            "[[9.6874088e-01 3.1259112e-02 1.6504789e-11]] paper\n",
            "[[9.5140183e-01 4.8598129e-02 9.0013726e-12]] paper\n",
            "[[8.2562762e-01 1.7437239e-01 1.0040411e-15]] paper\n",
            "[[9.9317414e-01 6.8258583e-03 4.1445949e-14]] paper\n",
            "[[8.1579137e-01 1.8420863e-01 4.7407973e-11]] paper\n",
            "[[8.6771321e-01 1.3228679e-01 1.4521155e-15]] paper\n",
            "[[9.9889368e-01 1.1063764e-03 4.8345163e-17]] paper\n",
            "[[9.99819577e-01 1.80479867e-04 1.02951586e-17]] paper\n",
            "[[6.246075e-02 9.375392e-01 3.054903e-14]] rock\n",
            "[[5.8662784e-01 4.1337216e-01 4.0228144e-15]] paper\n",
            "[[7.3695430e-03 9.9263048e-01 1.1289729e-13]] rock\n",
            "[[9.9756938e-01 2.4306446e-03 4.6511956e-16]] paper\n",
            "[[9.9907160e-01 9.2834682e-04 2.9675998e-11]] paper\n",
            "[[9.9590033e-01 4.0997174e-03 2.8370670e-15]] paper\n",
            "[[2.2956878e-01 7.7043128e-01 4.7309458e-15]] rock\n",
            "[[4.5709717e-01 5.4290283e-01 1.2602133e-15]] rock\n",
            "[[5.9047705e-03 9.9409521e-01 4.8657514e-13]] rock\n",
            "[[8.9423388e-01 1.0576608e-01 8.5618471e-11]] paper\n",
            "[[1.15925334e-01 8.84074688e-01 1.93093019e-15]] rock\n",
            "[[9.946154e-01 5.384647e-03 6.488835e-12]] paper\n",
            "[[2.4004236e-02 9.7599572e-01 2.6376033e-14]] rock\n",
            "[[3.781370e-01 6.218630e-01 5.123511e-15]] rock\n",
            "[[9.1201437e-01 8.7985575e-02 2.7520695e-14]] paper\n",
            "[[8.0279374e-01 1.9720623e-01 1.0319014e-15]] paper\n",
            "[[9.9246609e-01 7.5339838e-03 4.9961064e-17]] paper\n",
            "[[8.5475141e-01 1.4524862e-01 7.6232620e-14]] paper\n",
            "[[6.8875349e-01 3.1124651e-01 2.2486133e-15]] paper\n",
            "[[2.070469e-03 9.979296e-01 9.263629e-15]] rock\n",
            "[[3.3848339e-01 6.6151667e-01 1.0999627e-13]] rock\n",
            "[[9.8857927e-01 1.1420789e-02 2.4382423e-14]] paper\n",
            "[[9.5635831e-01 4.3641634e-02 2.2162248e-14]] paper\n",
            "[[9.9285299e-01 7.1470584e-03 1.7141224e-15]] paper\n",
            "[[9.9994242e-01 5.7628677e-05 2.8382558e-11]] paper\n",
            "[[9.9103606e-01 8.9639397e-03 3.6667188e-12]] paper\n",
            "[[4.5634755e-01 5.4365247e-01 9.9815447e-15]] rock\n",
            "[[9.9622333e-01 3.7766853e-03 4.8189467e-16]] paper\n",
            "[[3.9823126e-02 9.6017683e-01 4.9730588e-14]] rock\n",
            "[[8.0824137e-01 1.9175859e-01 1.4573558e-14]] paper\n",
            "[[9.9119616e-01 8.8038659e-03 5.3910285e-18]] paper\n",
            "[[9.7349960e-01 2.6500430e-02 1.9838861e-12]] paper\n",
            "[[9.9907076e-01 9.2922995e-04 2.4384017e-16]] paper\n",
            "[[5.2049518e-01 4.7950485e-01 2.5811081e-13]] paper\n",
            "[[9.9846715e-01 1.5328623e-03 1.0965128e-13]] paper\n",
            "[[9.9866319e-01 1.3368598e-03 1.3576949e-13]] paper\n",
            "[[9.9899751e-01 1.0024766e-03 1.3344480e-14]] paper\n",
            "[[9.9969923e-01 3.0080872e-04 1.3555804e-16]] paper\n",
            "[[5.1092476e-01 4.8907524e-01 1.8264441e-13]] paper\n",
            "[[9.1477334e-01 8.5226618e-02 1.0224751e-15]] paper\n",
            "[[9.7095662e-01 2.9043388e-02 1.0978435e-16]] paper\n",
            "[[9.9979395e-01 2.0610879e-04 9.4961347e-15]] paper\n",
            "[[9.9047053e-01 9.5294323e-03 1.7285235e-15]] paper\n",
            "[[6.9469158e-03 9.9305302e-01 3.7290632e-14]] rock\n",
            "[[1.03708364e-01 8.96291554e-01 4.64259944e-15]] rock\n",
            "[[8.0680227e-01 1.9319777e-01 1.6287286e-15]] paper\n",
            "[[4.2092919e-01 5.7907087e-01 1.9433244e-13]] rock\n",
            "[[4.9094271e-02 9.5090574e-01 1.3869000e-14]] rock\n",
            "[[7.390312e-01 2.609688e-01 8.307634e-15]] paper\n",
            "[[9.9970168e-01 2.9832261e-04 7.2907604e-11]] paper\n",
            "[[8.4708500e-01 1.5291500e-01 2.5402698e-15]] paper\n",
            "[[3.6410296e-01 6.3589710e-01 7.9526195e-12]] rock\n",
            "[[9.9190605e-01 8.0939801e-03 7.2783946e-17]] paper\n",
            "[[9.0444219e-01 9.5557787e-02 2.7443839e-14]] paper\n",
            "[[9.980726e-01 1.927294e-03 7.827828e-11]] paper\n",
            "[[9.9434042e-01 5.6595784e-03 8.1477107e-15]] paper\n",
            "[[6.3261628e-01 3.6738378e-01 1.2212188e-13]] paper\n",
            "[[9.9435413e-01 5.6459014e-03 1.7271796e-13]] paper\n",
            "[[9.9544215e-01 4.5578941e-03 1.7740345e-13]] paper\n",
            "[[1.9314767e-01 8.0685234e-01 4.5272598e-15]] rock\n",
            "[[9.7909945e-01 2.0900534e-02 3.8416793e-14]] paper\n",
            "[[9.3452078e-01 6.5479256e-02 2.3732069e-10]] paper\n",
            "[[9.994394e-01 5.605863e-04 7.401865e-15]] paper\n",
            "[[3.4225181e-01 6.5774816e-01 5.1762950e-15]] rock\n",
            "[[6.244443e-01 3.755557e-01 6.712746e-14]] paper\n",
            "[[1.1445279e-01 8.8554722e-01 9.8338458e-14]] rock\n",
            "[[5.2085262e-02 9.4791466e-01 9.5302787e-14]] rock\n",
            "[[7.2457403e-01 2.7542594e-01 1.9665738e-12]] paper\n",
            "[[9.9778205e-01 2.2179161e-03 4.5538225e-17]] paper\n",
            "[[9.7714627e-01 2.2853801e-02 3.2333284e-14]] paper\n",
            "[[5.4127246e-01 4.5872754e-01 7.6362423e-11]] paper\n",
            "[[3.3108425e-01 6.6891575e-01 4.6992363e-15]] rock\n",
            "[[1.698930e-01 8.301070e-01 4.574331e-15]] rock\n",
            "[[6.1115175e-02 9.3888479e-01 2.1543245e-15]] rock\n",
            "[[2.1651907e-02 9.7834808e-01 3.2508231e-15]] rock\n",
            "[[9.9849033e-01 1.5096392e-03 3.0679357e-13]] paper\n",
            "[[9.9294430e-01 7.0556826e-03 5.4053554e-12]] paper\n",
            "[[9.9304551e-01 6.9544460e-03 4.3736192e-17]] paper\n",
            "[[9.9938607e-01 6.1389734e-04 2.7727913e-17]] paper\n",
            "[[1.0223390e-02 9.8977661e-01 2.6578208e-13]] rock\n",
            "[[6.6555196e-01 3.3444807e-01 4.9500626e-14]] paper\n",
            "[[9.9809259e-01 1.9074307e-03 1.6088071e-14]] paper\n",
            "[[2.8424412e-01 7.1575588e-01 1.3741359e-14]] rock\n",
            "[[4.8214668e-01 5.1785326e-01 1.6334592e-12]] rock\n",
            "[[9.9436706e-01 5.6329491e-03 1.3617037e-13]] paper\n",
            "[[6.9146401e-01 3.0853599e-01 2.0733062e-12]] paper\n",
            "[[9.8323417e-01 1.6765827e-02 2.6623538e-11]] paper\n",
            "[[9.5414358e-01 4.5856472e-02 1.5492681e-12]] paper\n",
            "[[9.9243450e-01 7.5655575e-03 1.1583906e-13]] paper\n",
            "[[1.5572196e-01 8.4427804e-01 1.5204340e-13]] rock\n",
            "[[9.9598759e-01 4.0123467e-03 1.9712280e-17]] paper\n",
            "[[8.2157069e-01 1.7842935e-01 1.0178274e-13]] paper\n",
            "[[5.9318084e-01 4.0681916e-01 1.2096578e-14]] paper\n",
            "[[4.2976797e-01 5.7023203e-01 1.1263269e-11]] rock\n",
            "[[5.9463624e-02 9.4053638e-01 4.6798558e-15]] rock\n",
            "[[9.8589236e-01 1.4107608e-02 2.8169836e-12]] paper\n",
            "[[9.9924588e-01 7.5409684e-04 1.1143991e-15]] paper\n",
            "[[9.9875021e-01 1.2497695e-03 1.1044913e-15]] paper\n",
            "[[9.9851424e-01 1.4857533e-03 1.5176184e-14]] paper\n",
            "[[9.6397847e-01 3.6021587e-02 4.7964702e-11]] paper\n",
            "[[9.9932528e-01 6.7480403e-04 7.8646083e-18]] paper\n",
            "[[6.5452754e-01 3.4547243e-01 4.2030843e-13]] paper\n",
            "[[8.5108715e-01 1.4891280e-01 1.0056195e-13]] paper\n",
            "[[9.9356455e-01 6.4354069e-03 1.3698160e-15]] paper\n",
            "[[6.2742102e-01 3.7257901e-01 1.0249758e-15]] paper\n",
            "[[5.1507939e-02 9.4849205e-01 1.8857619e-15]] rock\n",
            "[[4.1554910e-01 5.8445096e-01 8.4039749e-14]] rock\n",
            "[[6.6389376e-01 3.3610630e-01 8.1389383e-14]] paper\n",
            "[[9.8971468e-01 1.0285252e-02 5.5441986e-16]] paper\n",
            "[[9.8341006e-01 1.6589895e-02 2.8798676e-13]] paper\n",
            "[[6.5665424e-01 3.4334582e-01 3.7340334e-15]] paper\n",
            "[[3.7161061e-01 6.2838936e-01 2.9012283e-12]] rock\n",
            "[[9.3552577e-01 6.4474247e-02 2.3418645e-13]] paper\n",
            "[[9.9855655e-01 1.4434685e-03 2.0218140e-13]] paper\n",
            "[[9.647146e-01 3.528540e-02 3.938949e-16]] paper\n",
            "[[7.8475994e-01 2.1524006e-01 3.5942966e-13]] paper\n",
            "[[5.7846189e-01 4.2153811e-01 6.4502365e-14]] paper\n",
            "[[4.1011730e-01 5.8988273e-01 6.5431732e-15]] rock\n",
            "[[6.2735009e-01 3.7264988e-01 1.1554634e-15]] paper\n",
            "[[1.1956436e-01 8.8043571e-01 1.6617348e-15]] rock\n",
            "[[9.6297288e-01 3.7027135e-02 3.6287186e-17]] paper\n",
            "[[9.9651599e-01 3.4839853e-03 5.8697833e-15]] paper\n",
            "[[2.7959505e-01 7.2040498e-01 2.1814531e-15]] rock\n",
            "[[6.9834477e-01 3.0165529e-01 1.5926611e-13]] paper\n",
            "[[9.9895930e-01 1.0406753e-03 4.5654661e-15]] paper\n",
            "[[6.1554229e-01 3.8445774e-01 6.8587582e-15]] paper\n",
            "[[2.2836111e-01 7.7163887e-01 1.0238331e-13]] rock\n",
            "[[9.7442776e-01 2.5572285e-02 4.6689333e-11]] paper\n",
            "[[8.7136519e-01 1.2863483e-01 1.0221021e-11]] paper\n",
            "[[9.9952507e-01 4.7497085e-04 9.6243318e-17]] paper\n",
            "[[9.8731440e-01 1.2685674e-02 1.6097390e-14]] paper\n",
            "[[9.5938915e-01 4.0610831e-02 1.4106814e-17]] paper\n",
            "[[9.4035184e-01 5.9648111e-02 7.1296584e-15]] paper\n",
            "[[9.9314088e-01 6.8591377e-03 2.6043122e-13]] paper\n",
            "[[9.6438539e-01 3.5614658e-02 3.2242481e-12]] paper\n",
            "[[9.2027819e-01 7.9721823e-02 2.6183418e-14]] paper\n",
            "[[5.1169664e-01 4.8830342e-01 2.6270557e-15]] paper\n",
            "[[9.9917078e-01 8.2923751e-04 1.7691192e-16]] paper\n",
            "[[7.6027608e-01 2.3972388e-01 5.1043129e-15]] paper\n",
            "[[5.3374588e-01 4.6625412e-01 9.6002640e-14]] paper\n",
            "[[9.9175560e-01 8.2444455e-03 2.0161378e-13]] paper\n",
            "[[1.2173194e-01 8.7826806e-01 3.6143996e-13]] rock\n",
            "[[5.1857844e-02 9.4814217e-01 6.2741391e-14]] rock\n",
            "[[2.2516994e-01 7.7483010e-01 9.6239633e-14]] rock\n",
            "[[9.9020517e-01 9.7948210e-03 1.9340916e-12]] paper\n",
            "[[9.8240465e-01 1.7595354e-02 1.0106630e-15]] paper\n",
            "[[8.4159809e-01 1.5840192e-01 3.8773868e-16]] paper\n",
            "[[5.3269297e-01 4.6730706e-01 3.0488036e-13]] paper\n",
            "[[5.9618449e-01 4.0381548e-01 5.5144416e-14]] paper\n",
            "[[9.8414719e-01 1.5852800e-02 2.2955261e-17]] paper\n",
            "[[9.9921501e-01 7.8498648e-04 2.5729303e-16]] paper\n",
            "[[9.9146992e-01 8.5300915e-03 7.4764459e-16]] paper\n",
            "[[9.9736732e-01 2.6327104e-03 4.0573074e-16]] paper\n",
            "[[9.9575657e-01 4.2434386e-03 1.2581358e-10]] paper\n",
            "[[8.8799340e-01 1.1200661e-01 2.2215658e-12]] paper\n",
            "[[9.996408e-01 3.591260e-04 1.187370e-15]] paper\n",
            "[[9.8905724e-01 1.0942724e-02 2.0588960e-12]] paper\n",
            "[[8.6899477e-01 1.3100529e-01 3.6920692e-12]] paper\n",
            "[[9.99897242e-01 1.02688355e-04 2.29168474e-14]] paper\n",
            "[[9.9964058e-01 3.5935116e-04 1.9608769e-16]] paper\n"
          ],
          "name": "stdout"
        }
      ]
    },
    {
      "cell_type": "code",
      "metadata": {
        "id": "uqfBmSQeaYc5",
        "outputId": "af1cebb6-9c33-41bd-d677-4257d8576014",
        "colab": {
          "base_uri": "https://localhost:8080/",
          "height": 34
        }
      },
      "source": [
        "train_gen.class_indices"
      ],
      "execution_count": 31,
      "outputs": [
        {
          "output_type": "execute_result",
          "data": {
            "text/plain": [
              "{'paper': 0, 'rock': 1, 'scissor': 2}"
            ]
          },
          "metadata": {
            "tags": []
          },
          "execution_count": 31
        }
      ]
    },
    {
      "cell_type": "code",
      "metadata": {
        "id": "8Ln9Hxc6bY7Z"
      },
      "source": [
        ""
      ],
      "execution_count": null,
      "outputs": []
    }
  ]
}